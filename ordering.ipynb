{
 "cells": [
  {
   "cell_type": "markdown",
   "metadata": {},
   "source": [
    "# Exercício de Programação 2: Introdução à Análise de Algoritmos\n",
    "Aluisio Amorim - Sistemas de Informação, EACH-USP. <br />\n",
    "Preferi a utilização do `Jupyter Notebook` para facilitar a compreensão do relatório em `Markdown` e as linhas de código em `Python`, bem como as medições dos tempos de processamento de cada algoritmo."
   ]
  },
  {
   "cell_type": "markdown",
   "metadata": {},
   "source": [
    "### Problema da Ordenação:\n",
    "Ordenação é, com certeza, um dos problemas mais interessantes para se discutir `análise assintótica`. <br/>\n",
    "> _Análise assintótica é um ramo da matemática que estuda o comportamento de uma função ou algoritmo em um limite, geralmente quando o argumento da função ou o tamanho dos dados de entrada do algoritmo tendem ao infinito. É uma ferramenta importante para entender a eficiência de um algoritmo e identificar limitações em seu desempenho._\n",
    "\n",
    "Por meio desse, afim de comparar a eficiência de dois algoritmos pertencentes a grupos de funções de complexidades diferentes, escolhi o `Bubble Sort (Θ(n^2))` e o `Quick Sort (Θ(nlog(n)))`"
   ]
  },
  {
   "cell_type": "code",
   "execution_count": 50,
   "metadata": {},
   "outputs": [
    {
     "name": "stdout",
     "output_type": "stream",
     "text": [
      "[5581, 8803, 7607, 5886, 9791, 9981, 1228, 2648, 646, 9960, 494, 7594, 8691, 4075, 1578, 2159, 8673, 2814, 3198, 3568, 4852, 4134, 8910, 7738, 4488, 9778, 7625, 8987, 9815, 6801, 4848, 2798, 4171, 3258, 8452, 919, 6671, 1340, 4420, 1292, 4082, 402, 5230, 3490, 1854, 4388, 9683, 3630, 1414, 2185, 7223, 8132, 8700, 3661, 7648, 6267, 2992, 1477, 1651, 683, 5115, 6144, 1673, 6257, 8374, 3702, 334, 6634, 4141, 8699, 4917, 9270, 6708, 5076, 8655, 8810, 2238, 2876, 8477, 768, 2920, 138, 8517, 9869, 5208, 3095, 4176, 1177, 4499, 4486, 1649, 4272, 9770, 2350, 5908, 7859, 1268, 9692, 2560, 8639]\n"
     ]
    }
   ],
   "source": [
    "# Primeiramente, criaremos uma lista contendo 100 inteiros aleatórios\n",
    "import random\n",
    "alist = [random.randint(0, 10000) for i in range(100)]\n",
    "print(alist)\n",
    "\n",
    "# Também definiremos uma função para verificar se a lista está ordenada\n",
    "def is_sorted(alist):\n",
    "    for i in range(len(alist) - 1):\n",
    "        if alist[i] > alist[i + 1]:\n",
    "            return False\n",
    "    return True\n",
    "is_sorted(alist)\n",
    "\n",
    "# Por fim, definiremos uma função que recebe uma outra função como parâmetro e mede o seu tempo de execução\n",
    "def time_it(func, *args, **kwargs):\n",
    "    import time\n",
    "    start = time.time()\n",
    "    func(*args, **kwargs)\n",
    "    end = time.time()\n",
    "    return end - start"
   ]
  },
  {
   "cell_type": "markdown",
   "metadata": {},
   "source": [
    "### Bubble Sort"
   ]
  },
  {
   "cell_type": "code",
   "execution_count": 51,
   "metadata": {},
   "outputs": [
    {
     "name": "stdout",
     "output_type": "stream",
     "text": [
      "0.0005326271057128906\n",
      "True\n"
     ]
    }
   ],
   "source": [
    "def bubbleSort(alist):\n",
    "  for i in range(len(alist)):\n",
    "    for j in range(0, len(alist) - i - 1):\n",
    "      if alist[j] > alist[j + 1]:\n",
    "        temp = alist[j]\n",
    "        alist[j] = alist[j+1]\n",
    "        alist[j+1] = temp\n",
    "\n",
    "print(time_it(bubbleSort, alist))\n",
    "print(is_sorted(alist))"
   ]
  },
  {
   "cell_type": "markdown",
   "metadata": {},
   "source": [
    "### Quick Sort"
   ]
  },
  {
   "cell_type": "code",
   "execution_count": 52,
   "metadata": {},
   "outputs": [
    {
     "data": {
      "text/plain": [
       "True"
      ]
     },
     "execution_count": 52,
     "metadata": {},
     "output_type": "execute_result"
    }
   ],
   "source": [
    "def partition(alist, start, end):\n",
    "    pivot = alist[start]\n",
    "    low = start + 1\n",
    "    high = end\n",
    "\n",
    "    while True:\n",
    "        while low <= high and alist[high] >= pivot:\n",
    "            high = high - 1\n",
    "\n",
    "        while low <= high and alist[low] <= pivot:\n",
    "            low = low + 1\n",
    "\n",
    "        if low <= high:\n",
    "            alist[low], alist[high] = alist[high], alist[low]\n",
    "        else:\n",
    "            break\n",
    "\n",
    "    alist[start], alist[high] = alist[high], alist[start]\n",
    "\n",
    "    return high\n",
    "\n",
    "def quick_sort(alist, start, end):\n",
    "    if start >= end:\n",
    "        return\n",
    "\n",
    "    p = partition(alist, start, end)\n",
    "    quick_sort(alist, start, p-1)\n",
    "    quick_sort(alist, p+1, end)\n",
    "    \n",
    "print(time_it(quick_sort, alist, 0, len(alist) - 1))\n",
    "is_sorted(alist)"
   ]
  }
 ],
 "metadata": {
  "kernelspec": {
   "display_name": "Python 3.8.10 64-bit",
   "language": "python",
   "name": "python3"
  },
  "language_info": {
   "codemirror_mode": {
    "name": "ipython",
    "version": 3
   },
   "file_extension": ".py",
   "mimetype": "text/x-python",
   "name": "python",
   "nbconvert_exporter": "python",
   "pygments_lexer": "ipython3",
   "version": "3.8.10"
  },
  "orig_nbformat": 4,
  "vscode": {
   "interpreter": {
    "hash": "916dbcbb3f70747c44a77c7bcd40155683ae19c65e1c03b4aa3499c5328201f1"
   }
  }
 },
 "nbformat": 4,
 "nbformat_minor": 2
}
