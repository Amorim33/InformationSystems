{
 "cells": [
  {
   "cell_type": "markdown",
   "metadata": {},
   "source": [
    "# Exercício de Programação 2: Introdução à Análise de Algoritmos\n",
    "Aluisio Amorim - Sistemas de Informação, EACH-USP. <br />\n",
    "Preferi a utilização do `Jupyter Notebook` para facilitar a compreensão do relatório em `Markdown` e as linhas de código em `Python`, bem como as medições dos tempos de processamento de cada algoritmo."
   ]
  },
  {
   "cell_type": "markdown",
   "metadata": {},
   "source": [
    "### Problema da Ordenação:\n",
    "Ordenação é, com certeza, um dos problemas mais interessantes para se discutir `análise assintótica`. <br/>\n",
    "> _Análise assintótica é um ramo da matemática que estuda o comportamento de uma função ou algoritmo em um limite, geralmente quando o argumento da função ou o tamanho dos dados de entrada do algoritmo tendem ao infinito. É uma ferramenta importante para entender a eficiência de um algoritmo e identificar limitações em seu desempenho._\n",
    "\n",
    "Por meio desse, afim de comparar a eficiência de dois algoritmos pertencentes a grupos de funções de complexidades diferentes, escolhi o `Bubble Sort (Θ(n^2))` e o `Quick Sort (Θ(nlog(n)))`"
   ]
  },
  {
   "cell_type": "code",
   "execution_count": 188,
   "metadata": {},
   "outputs": [],
   "source": [
    "import random\n",
    "import time\n",
    "\n",
    "# Primeiramente, criaremos uma função que retorna uma lista de números aleatórios\n",
    "def random_list(size):\n",
    "    return [random.randint(0, 10000000) for i in range(size)]\n",
    "\n",
    "# Também definiremos uma função para verificar se a lista está ordenada\n",
    "def is_sorted(alist):\n",
    "    for i in range(len(alist) - 1):\n",
    "        if alist[i] > alist[i + 1]:\n",
    "            return False\n",
    "    return True\n",
    "\n",
    "# Por fim, definiremos uma função que recebe uma outra função como parâmetro e mede o seu tempo de execução\n",
    "def time_it(func, *args, **kwargs):\n",
    "    start = time.time()\n",
    "    func(*args, **kwargs)\n",
    "    end = time.time()\n",
    "    return end - start"
   ]
  },
  {
   "cell_type": "markdown",
   "metadata": {},
   "source": [
    "### Bubble Sort"
   ]
  },
  {
   "cell_type": "code",
   "execution_count": 189,
   "metadata": {},
   "outputs": [
    {
     "name": "stdout",
     "output_type": "stream",
     "text": [
      "0.0007383823394775391\n",
      "True\n"
     ]
    }
   ],
   "source": [
    "def bubble_sort(alist):\n",
    "  for i in range(len(alist)):\n",
    "    for j in range(0, len(alist) - i - 1):\n",
    "      if alist[j] > alist[j + 1]:\n",
    "        temp = alist[j]\n",
    "        alist[j] = alist[j+1]\n",
    "        alist[j+1] = temp\n",
    "alist = random_list(100)\n",
    "bsort_time = time_it(bubble_sort, alist)\n",
    "print(bsort_time)\n",
    "print(is_sorted(alist))"
   ]
  },
  {
   "cell_type": "markdown",
   "metadata": {},
   "source": [
    "### Quick Sort"
   ]
  },
  {
   "cell_type": "code",
   "execution_count": 190,
   "metadata": {},
   "outputs": [
    {
     "name": "stdout",
     "output_type": "stream",
     "text": [
      "0.00041604042053222656\n",
      "True\n"
     ]
    }
   ],
   "source": [
    "def partition(alist, start, end):\n",
    "    pivot = alist[start]\n",
    "    low = start + 1\n",
    "    high = end\n",
    "\n",
    "    while True:\n",
    "        while low <= high and alist[high] >= pivot:\n",
    "            high = high - 1\n",
    "\n",
    "        while low <= high and alist[low] <= pivot:\n",
    "            low = low + 1\n",
    "\n",
    "        if low <= high:\n",
    "            alist[low], alist[high] = alist[high], alist[low]\n",
    "        else:\n",
    "            break\n",
    "\n",
    "    alist[start], alist[high] = alist[high], alist[start]\n",
    "\n",
    "    return high\n",
    "\n",
    "def quick_sort(alist, start, end):\n",
    "    if start >= end:\n",
    "        return\n",
    "\n",
    "    p = partition(alist, start, end)\n",
    "    quick_sort(alist, start, p-1)\n",
    "    quick_sort(alist, p+1, end)\n",
    "alist = random_list(100)\n",
    "qsort_time = time_it(quick_sort, alist, 0, len(alist) - 1)    \n",
    "print(qsort_time)\n",
    "print(is_sorted(alist))"
   ]
  },
  {
   "cell_type": "markdown",
   "metadata": {},
   "source": [
    "Para uma lista de 100 items, podemos notar uma singela diferença de tempo, podendo-se dizer que o `Quick Sort` resolveu o problema mais rápido. Entretanto, para alguns casos, em termos práticos, também podemos afirmar que a diferença é `insignificante`, citando caso análogo: <br />\n",
    "- Como um engenheiro de software, você e sua equipe são designados para a criação de um botão que ordena por idade uma base de 100 usuários.\n",
    "\n",
    "Em termos de experiência do usuário (UX), seria completamente irrelevante a escolha de um ou outro algoritmo, uma vez que o usuário seria incapaz de perceber uma diferença tão pequena."
   ]
  },
  {
   "cell_type": "code",
   "execution_count": 191,
   "metadata": {},
   "outputs": [
    {
     "name": "stdout",
     "output_type": "stream",
     "text": [
      "Diferença de tempo em segundos: 0.0003223419189453125\n"
     ]
    }
   ],
   "source": [
    "print(f'Diferença de tempo em segundos: {bsort_time - qsort_time}')"
   ]
  },
  {
   "cell_type": "markdown",
   "metadata": {},
   "source": [
    "Vejamos agora a mesma situação para uma lista de dez mil items `(10^4)`."
   ]
  },
  {
   "cell_type": "code",
   "execution_count": 192,
   "metadata": {},
   "outputs": [
    {
     "name": "stdout",
     "output_type": "stream",
     "text": [
      "Tempo Bubble Sort: 7.601192951202393\n",
      "True\n"
     ]
    }
   ],
   "source": [
    "alist = random_list(10000)\n",
    "bsort_time = time_it(bubble_sort, alist)\n",
    "print(f'Tempo Bubble Sort: {bsort_time}')\n",
    "print(is_sorted(alist))\n"
   ]
  },
  {
   "cell_type": "code",
   "execution_count": 193,
   "metadata": {},
   "outputs": [
    {
     "name": "stdout",
     "output_type": "stream",
     "text": [
      "Tempo Quick Sort: 0.029018402099609375\n",
      "True\n"
     ]
    }
   ],
   "source": [
    "alist = random_list(10000)\n",
    "qsort_time = time_it(quick_sort, alist, 0, len(alist) - 1)    \n",
    "print(f'Tempo Quick Sort: {qsort_time}')\n",
    "print(is_sorted(alist))"
   ]
  },
  {
   "cell_type": "markdown",
   "metadata": {},
   "source": [
    "Para uma lista de 10000 items, já podemos notar uma diferença mais `significante`, retomando o exemplo do botão: <br />\n",
    "Pensando em termos de `UX`, seria notável para o usuário, a diferença entre o tempo de espera para que os algoritmos resolvam, justificando perfeitamente a escolha do desenvolvedor que preferiu implementar o `Quick Sort` ao invés do `Bubble Sort`, no botão. "
   ]
  },
  {
   "cell_type": "code",
   "execution_count": 194,
   "metadata": {},
   "outputs": [
    {
     "name": "stdout",
     "output_type": "stream",
     "text": [
      "Diferença de tempo em segundos: 7.572174549102783\n"
     ]
    }
   ],
   "source": [
    "print(f'Diferença de tempo em segundos: {bsort_time - qsort_time}')"
   ]
  },
  {
   "cell_type": "markdown",
   "metadata": {},
   "source": [
    "Isto se deve à diferença entre as complexidades dos algoritmos, assintóticamente, quanto maior for o tamanho da lista mais relevante será a diferença de tempo.\n",
    "\n",
    "Uma vez que, em termos de complexidade: `Θ(n^2) < Θ(nlog(n))`.\n",
    "\n",
    "![time x input](https://miro.medium.com/max/650/1*6mpaXFsrRPFXSKXK5Qgm8w.png)"
   ]
  }
 ],
 "metadata": {
  "kernelspec": {
   "display_name": "Python 3.8.10 64-bit",
   "language": "python",
   "name": "python3"
  },
  "language_info": {
   "codemirror_mode": {
    "name": "ipython",
    "version": 3
   },
   "file_extension": ".py",
   "mimetype": "text/x-python",
   "name": "python",
   "nbconvert_exporter": "python",
   "pygments_lexer": "ipython3",
   "version": "3.8.10"
  },
  "orig_nbformat": 4,
  "vscode": {
   "interpreter": {
    "hash": "916dbcbb3f70747c44a77c7bcd40155683ae19c65e1c03b4aa3499c5328201f1"
   }
  }
 },
 "nbformat": 4,
 "nbformat_minor": 2
}
